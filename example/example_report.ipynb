{
 "cells": [
  {
   "cell_type": "code",
   "execution_count": 1,
   "id": "c590f97c-1620-4561-806c-ed232e7f687b",
   "metadata": {
    "tags": []
   },
   "outputs": [],
   "source": [
    "%load_ext autoreload\n",
    "%autoreload 2"
   ]
  },
  {
   "cell_type": "markdown",
   "id": "b6d1151b-b09f-449a-9bc1-e4b7ed6d869c",
   "metadata": {},
   "source": [
    "## Example how to make report"
   ]
  },
  {
   "cell_type": "raw",
   "id": "711a98d0-718c-44a4-bb6b-1da2c0fc77c7",
   "metadata": {
    "jupyter": {
     "outputs_hidden": true
    },
    "tags": []
   },
   "source": [
    "pip install reporter"
   ]
  },
  {
   "cell_type": "code",
   "execution_count": 2,
   "id": "5cf155ef-b371-4885-9c19-bc51bc1c7e8f",
   "metadata": {
    "tags": []
   },
   "outputs": [],
   "source": [
    "from reporter import Reporter\n",
    "from reporter.config import DLConfig\n",
    "from pathlib import Path\n",
    "import json"
   ]
  },
  {
   "cell_type": "code",
   "execution_count": 3,
   "id": "e55d2a5d-98bf-4bbb-9a7d-bd3e431b22e9",
   "metadata": {
    "tags": []
   },
   "outputs": [
    {
     "data": {
      "text/plain": [
       "'/home/jovyan/OCR_3379'"
      ]
     },
     "execution_count": 3,
     "metadata": {},
     "output_type": "execute_result"
    }
   ],
   "source": [
    "pwd"
   ]
  },
  {
   "cell_type": "code",
   "execution_count": 5,
   "id": "53536453-f088-43ae-9343-17b06347ffaf",
   "metadata": {
    "tags": []
   },
   "outputs": [],
   "source": [
    "artifacts_dir = work_dir / 'artifacts'"
   ]
  },
  {
   "cell_type": "markdown",
   "id": "94a46334-3c9b-44a3-bfbe-92b64b5f0c30",
   "metadata": {},
   "source": [
    "#### Utils"
   ]
  },
  {
   "cell_type": "code",
   "execution_count": 6,
   "id": "986ef701-ce7c-4a54-85eb-6748f7e61a0c",
   "metadata": {
    "tags": []
   },
   "outputs": [],
   "source": [
    "def load_json(filename):\n",
    "    \"\"\"Считывает JSON-файл и возвращает его как dict.\"\"\"\n",
    "    with open(filename, \"r\") as f:\n",
    "        json_text = f.read()\n",
    "    return json.loads(json_text)"
   ]
  },
  {
   "cell_type": "markdown",
   "id": "b8ae366d-b92a-44d7-9ce1-6f0e9df1f535",
   "metadata": {},
   "source": [
    "#### load artifacts"
   ]
  },
  {
   "cell_type": "code",
   "execution_count": 7,
   "id": "7aced492-dc29-4354-8fc8-473ba87ea5d4",
   "metadata": {
    "tags": []
   },
   "outputs": [],
   "source": [
    "model = Model('birth_certificate_fieldnet')"
   ]
  },
  {
   "cell_type": "code",
   "execution_count": 8,
   "id": "bee5c775-4738-4db1-ac4d-7258d8c6b413",
   "metadata": {
    "tags": []
   },
   "outputs": [],
   "source": [
    "training = model.training(training_id=182)"
   ]
  },
  {
   "cell_type": "code",
   "execution_count": 9,
   "id": "39171e0d-729e-4667-b128-3c7dd46d8145",
   "metadata": {
    "tags": []
   },
   "outputs": [],
   "source": [
    "art_list = training.artifacts"
   ]
  },
  {
   "cell_type": "code",
   "execution_count": 10,
   "id": "63ba2e84-ca0e-4c66-b454-3cc8fb2da667",
   "metadata": {
    "tags": []
   },
   "outputs": [
    {
     "data": {
      "text/plain": [
       "{'best_model.pth',\n",
       " 'classes_thresholds.json',\n",
       " 'config.yml',\n",
       " 'model.onnx',\n",
       " 'report.json',\n",
       " 'run.log',\n",
       " 'test_metrics.csv'}"
      ]
     },
     "execution_count": 10,
     "metadata": {},
     "output_type": "execute_result"
    }
   ],
   "source": [
    "art_list"
   ]
  },
  {
   "cell_type": "code",
   "execution_count": 11,
   "id": "2e8d8ec5-6edd-4034-becc-a6fe466a8ea9",
   "metadata": {
    "tags": []
   },
   "outputs": [
    {
     "data": {
      "application/vnd.jupyter.widget-view+json": {
       "model_id": "4d0f03e5629f4aba8ad38b3528dd5851",
       "version_major": 2,
       "version_minor": 0
      },
      "text/plain": [
       "  0%|          | 0/7 [00:00<?, ?it/s]"
      ]
     },
     "metadata": {},
     "output_type": "display_data"
    }
   ],
   "source": [
    "training.get_artifacts(path=str(artifacts_dir))"
   ]
  },
  {
   "cell_type": "code",
   "execution_count": 11,
   "id": "f6715b3b-bc4f-4c24-9ed2-d23708ea2a5b",
   "metadata": {
    "tags": []
   },
   "outputs": [],
   "source": [
    "classes_thresholds = load_json(artifacts_dir/'classes_thresholds.json')"
   ]
  },
  {
   "cell_type": "code",
   "execution_count": 12,
   "id": "d5816685-7612-4df7-a331-21492bcb4709",
   "metadata": {
    "tags": []
   },
   "outputs": [
    {
     "data": {
      "text/plain": [
       "{'issuer': 0.65,\n",
       " 'record_number': 0.5,\n",
       " 'date_of_birth': 0.675,\n",
       " 'place_of_birth': 0.625,\n",
       " 'doc_series': 0.625,\n",
       " 'doc_number': 0.625,\n",
       " 'mother_full_name': 0.65,\n",
       " 'father_full_name': 0.65,\n",
       " 'born_full_name': 0.6,\n",
       " 'issued_place': 0.625,\n",
       " 'issued_date': 0.575}"
      ]
     },
     "execution_count": 12,
     "metadata": {},
     "output_type": "execute_result"
    }
   ],
   "source": [
    "classes_thresholds"
   ]
  },
  {
   "cell_type": "code",
   "execution_count": 13,
   "id": "1d8b223e-68c9-45d6-9edd-583a19d6dc86",
   "metadata": {
    "tags": []
   },
   "outputs": [],
   "source": [
    "report_artifacts = load_json(artifacts_dir/'report.json')"
   ]
  },
  {
   "cell_type": "code",
   "execution_count": 14,
   "id": "1b2a74ce-870c-4b26-afcf-5e2b2cba61f2",
   "metadata": {
    "tags": []
   },
   "outputs": [
    {
     "data": {
      "text/plain": [
       "{'run_name': 'baseline/13.12/20.42.37',\n",
       " 'exp_dir': '/data/smart_vision/fieldnet/runs/birth_certificate_field_temp/baseline/13.12/20.42.37',\n",
       " 'sha': 'cff93e61f5d6aee37862b3777ee6801c547c2d07',\n",
       " 'host_name': 'root@fieldnet-train-20231213t234222-3966c-lc2qv',\n",
       " 'seed': 54321,\n",
       " 'exp_name': None,\n",
       " 'model_id': 327,\n",
       " 'training_id': 182,\n",
       " 'best_model_score': 0.8650198876857758,\n",
       " 'best_model_epoch': 449,\n",
       " 'classes_thresholds': {'issuer': 0.65,\n",
       "  'record_number': 0.5,\n",
       "  'date_of_birth': 0.675,\n",
       "  'place_of_birth': 0.625,\n",
       "  'doc_series': 0.625,\n",
       "  'doc_number': 0.625,\n",
       "  'mother_full_name': 0.65,\n",
       "  'father_full_name': 0.65,\n",
       "  'born_full_name': 0.6,\n",
       "  'issued_place': 0.625,\n",
       "  'issued_date': 0.575}}"
      ]
     },
     "execution_count": 14,
     "metadata": {},
     "output_type": "execute_result"
    }
   ],
   "source": [
    "report_artifacts"
   ]
  },
  {
   "cell_type": "code",
   "execution_count": 15,
   "id": "b61a58a9-e4c9-41f6-84a6-728cd4f2b2fd",
   "metadata": {
    "tags": []
   },
   "outputs": [],
   "source": [
    "config = DLConfig.load(artifacts_dir/'config.yml')"
   ]
  },
  {
   "cell_type": "code",
   "execution_count": 16,
   "id": "bd5d1449-9d39-4a85-bc71-c886360f8523",
   "metadata": {
    "tags": []
   },
   "outputs": [
    {
     "data": {
      "text/plain": [
       "{'type': 'segmentation_models_pytorch.Unet',\n",
       " 'params': {'encoder_name': 'timm-mobilenetv3_large_100',\n",
       "  'activation': 'softmax2d'},\n",
       " 'freeze_encoder': False}"
      ]
     },
     "execution_count": 16,
     "metadata": {},
     "output_type": "execute_result"
    }
   ],
   "source": [
    "config['model']"
   ]
  },
  {
   "cell_type": "code",
   "execution_count": 17,
   "id": "989cf294-2fb0-427d-adc5-a5da24875488",
   "metadata": {
    "tags": []
   },
   "outputs": [
    {
     "data": {
      "text/plain": [
       "['issuer', 'record_number', 'date_of_birth', 'place_of_birth', 'doc_series', 'doc_number', 'mother_full_name', 'father_full_name', 'born_full_name', 'issued_place', 'issued_date']"
      ]
     },
     "execution_count": 17,
     "metadata": {},
     "output_type": "execute_result"
    }
   ],
   "source": [
    "config['classes']"
   ]
  },
  {
   "cell_type": "markdown",
   "id": "1c46765d-6e34-4e52-b6b2-a024da63ec3c",
   "metadata": {},
   "source": [
    "### Make content for title.md template"
   ]
  },
  {
   "cell_type": "markdown",
   "id": "474a5a1a-a930-420c-ae30-f7a57d451b96",
   "metadata": {
    "tags": []
   },
   "source": [
    "```\n",
    "Пример шаблона для title.md\n",
    "```"
   ]
  },
  {
   "cell_type": "markdown",
   "id": "cea9465f-a19e-413d-b5f4-01f6fea9cf48",
   "metadata": {
    "tags": []
   },
   "source": [
    "```\n",
    "# {{ title_report }}\n",
    "\n",
    "## Модель\n",
    "- Название модели в хранилище моделей - `{{ mleco_model_name }}`\n",
    "- ID обучения = {{ mleco_training_idr }}\n",
    "\n",
    "## Контакты\n",
    "- Telegram: [{{ contact_telegram }}](https://t.me/{{ contact_telegram }})\n",
    "- Почта: {{ contact_email }}\n",
    "```"
   ]
  },
  {
   "cell_type": "markdown",
   "id": "633ae57a-cb0b-4811-8d5a-3187f51bed1d",
   "metadata": {},
   "source": [
    "#### Content\n",
    "Создаем контент для заполнения шаблона"
   ]
  },
  {
   "cell_type": "code",
   "execution_count": 18,
   "id": "72910a93-b52a-4993-90d1-ffdc8ecfb9ad",
   "metadata": {
    "tags": []
   },
   "outputs": [],
   "source": [
    "content = {}"
   ]
  },
  {
   "cell_type": "markdown",
   "id": "9870631e-76f0-4fec-9dae-ccb23b530e02",
   "metadata": {
    "tags": []
   },
   "source": [
    "#### dict content"
   ]
  },
  {
   "cell_type": "code",
   "execution_count": 19,
   "id": "e5d79341-59fc-4b21-96e3-5d1cb3176030",
   "metadata": {
    "tags": []
   },
   "outputs": [],
   "source": [
    "content['title_report'] = 'Сегментация полей документа свидетельсвта о рождении'\n",
    "content['mleco_model_name'] = 'birthday_certificate_fieldnet'\n",
    "content['training_id'] = '182'\n",
    "content['contact_telegram'] = '@Kirill_Hiddelstone'\n",
    "content['contact_email'] = 'kgkozlov@domclick.ru'"
   ]
  },
  {
   "cell_type": "code",
   "execution_count": 20,
   "id": "0be03ba9-9437-472e-8828-766369d11539",
   "metadata": {
    "tags": []
   },
   "outputs": [
    {
     "data": {
      "text/plain": [
       "{'title_report': 'Сегментация полей документа свидетельсвта о рождении',\n",
       " 'mleco_model_name': 'birthday_certificate_fieldnet',\n",
       " 'training_id': '182',\n",
       " 'contact_telegram': '@Kirill_Hiddelstone',\n",
       " 'contact_email': 'kgkozlov@domclick.ru'}"
      ]
     },
     "execution_count": 20,
     "metadata": {},
     "output_type": "execute_result"
    }
   ],
   "source": [
    "content"
   ]
  },
  {
   "cell_type": "markdown",
   "id": "3af669c9-0ad4-4b7e-993f-fc3320c60b72",
   "metadata": {
    "jp-MarkdownHeadingCollapsed": true,
    "tags": []
   },
   "source": [
    "#### yaml content\n",
    "```yaml\n",
    "title:\n",
    "    title_report: 'Сегментация полей документа свидетельсвта о рождении'\n",
    "    mleco_model_name: 'birthday_certificate_fieldnet'\n",
    "    training_id: '182'\n",
    "    contact_telegram: '@Kirill_Hiddelstone'\n",
    "    contact_email: 'kgkozlov@domclick.ru'\n",
    "\n",
    "```"
   ]
  },
  {
   "cell_type": "markdown",
   "id": "a7acc345-0036-42e1-85a5-b8e2520d7dcb",
   "metadata": {
    "tags": []
   },
   "source": [
    "### Reporter"
   ]
  },
  {
   "cell_type": "markdown",
   "id": "e7253a51-578f-4e41-a669-d92f7e4edc62",
   "metadata": {
    "tags": []
   },
   "source": [
    "```\n",
    "templates/\n",
    "    ├──base/\n",
    "    │    ├──base.md\n",
    "    │    ├──title.md\n",
    "    │    ├──reproduce.md\n",
    "    │    └──table.md\n",
    "    ├──smart_vision/\n",
    "    │    ├──fieldnet.md\n",
    "    │    ├──rotator.md\n",
    "    │    └──ocr_general.md\n",
    "    └── \n",
    "```"
   ]
  },
  {
   "cell_type": "markdown",
   "id": "d4ffb5a2-6d64-4f33-ab96-889948c4860c",
   "metadata": {},
   "source": [
    "#### report dict"
   ]
  },
  {
   "cell_type": "code",
   "execution_count": 21,
   "id": "93dfa3ab-f677-4eae-b9ee-ae98f03d01bc",
   "metadata": {
    "tags": []
   },
   "outputs": [],
   "source": [
    "report_content_dict = Reporter(\n",
    "    templ_path ='base/title.md', # пути внтури либы\n",
    "    package_name='reporter', # название либы\n",
    "    env_path = 'templates' # дирректория где лежать шаблоны\n",
    ")"
   ]
  },
  {
   "cell_type": "code",
   "execution_count": 23,
   "id": "2581e04a-9eef-4cca-b9b2-4f78b985dd72",
   "metadata": {
    "tags": []
   },
   "outputs": [],
   "source": [
    "# from dict\n",
    "report_content_dict.report_content(context=content, output_path=str(work_dir/'test.md'))"
   ]
  },
  {
   "cell_type": "markdown",
   "id": "0835f1f4-43e0-44ee-8603-8035dd70aca0",
   "metadata": {},
   "source": [
    "#### output"
   ]
  },
  {
   "cell_type": "raw",
   "id": "571dac82-ab82-4357-86e3-16e3a66808ae",
   "metadata": {},
   "source": [
    "# Сегментация полей документа свидетельсвта о рождении\n",
    "\n",
    "## Модель\n",
    "- Название модели в хранилище моделей - `birthday_certificate_fieldnet`\n",
    "- ID обучения = \n",
    "\n",
    "## Контакты\n",
    "- Telegram: [@Kirill_Hiddelstone](https://t.me/@Kirill_Hiddelstone)\n",
    "- Почта: kgkozlov@domclick.ru"
   ]
  },
  {
   "cell_type": "markdown",
   "id": "029d235b-5fd2-4bf9-99bb-2d531fd21895",
   "metadata": {
    "tags": []
   },
   "source": [
    "#### report yaml/json\n",
    "\n",
    "шаблон для yaml выглядить иначе - пример шаблона для title.md"
   ]
  },
  {
   "cell_type": "markdown",
   "id": "e2afd487-58b1-4492-b72e-b6ea7b70465d",
   "metadata": {
    "tags": []
   },
   "source": [
    "```\n",
    "# {{ title['title_report'] }}\n",
    "\n",
    "## Модель\n",
    "- Название модели в хранилище моделей - {{ title['mleco_model_name'] }}\n",
    "- ID обучения = {{ title['mleco_training_id'] }}\n",
    "\n",
    "## Контакты\n",
    "- Telegram: [{{ title['contact_telegram'] }}](https://t.me/{{ title['contact_telegram'] }})\n",
    "- Почта: {{ title['contact_email'] }}\n",
    "```"
   ]
  },
  {
   "cell_type": "code",
   "execution_count": 32,
   "id": "72343e22-9cdf-47b2-b1aa-15d8b0ad90ad",
   "metadata": {
    "tags": []
   },
   "outputs": [],
   "source": [
    "report_content_dict = Reporter(\n",
    "    templ_path ='title.md', # пути внтури либы\n",
    "    package_name='validation_report', # название либы\n",
    "    env_path = work_dir/'templates' # дирректория где лежать шаблоны\n",
    ")"
   ]
  },
  {
   "cell_type": "code",
   "execution_count": 33,
   "id": "532d122a-0d58-403a-b0ad-5eefe8edce89",
   "metadata": {
    "tags": []
   },
   "outputs": [],
   "source": [
    "# from yaml/json\n",
    "report_content_dict.report_config_content(context=artifacts_dir/'config_test.yml', output_path='test_yaml.md')"
   ]
  },
  {
   "cell_type": "raw",
   "id": "c7cba71b-4506-4835-b6ec-06be7b0b9f51",
   "metadata": {
    "tags": []
   },
   "source": [
    "# Сегментация полей документа свидетельсвта о рождении\n",
    "\n",
    "## Модель\n",
    "- Название модели в хранилище моделей - `birthday_certificate_fieldnet`\n",
    "- ID обучения = \n",
    "\n",
    "## Контакты\n",
    "- Telegram: [@Kirill_Hiddelston](https://t.me/@Kirill_Hiddelston)\n",
    "- Почта: kgkozlov@domclick.ru"
   ]
  }
 ],
 "metadata": {
  "kernelspec": {
   "display_name": "Python 3 (ipykernel)",
   "language": "python",
   "name": "python3"
  },
  "language_info": {
   "codemirror_mode": {
    "name": "ipython",
    "version": 3
   },
   "file_extension": ".py",
   "mimetype": "text/x-python",
   "name": "python",
   "nbconvert_exporter": "python",
   "pygments_lexer": "ipython3",
   "version": "3.9.10"
  }
 },
 "nbformat": 4,
 "nbformat_minor": 5
}
